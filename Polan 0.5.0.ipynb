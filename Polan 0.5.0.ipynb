{
 "cells": [
  {
   "cell_type": "code",
   "execution_count": 117,
   "metadata": {
    "collapsed": true
   },
   "outputs": [],
   "source": [
    "# SWAMI KARUPPASWAMI THUNNAI"
   ]
  },
  {
   "cell_type": "code",
   "execution_count": 118,
   "metadata": {},
   "outputs": [],
   "source": [
    "# Import all the necessary libararies\n",
    "import pandas as pd\n",
    "import numpy as np\n",
    "from sklearn.preprocessing import LabelEncoder\n",
    "from sklearn.cross_validation import train_test_split\n",
    "from nltk.tokenize import TweetTokenizer\n",
    "import re\n",
    "from nltk.stem import PorterStemmer\n",
    "from nltk.corpus import stopwords\n",
    "from sklearn.feature_extraction.text import CountVectorizer\n",
    "from sklearn.preprocessing import StandardScaler\n",
    "from sklearn.svm import SVC"
   ]
  },
  {
   "cell_type": "code",
   "execution_count": 119,
   "metadata": {
    "collapsed": true
   },
   "outputs": [],
   "source": [
    "# Get the data-set\n",
    "data_set = pd.read_csv(\"processed.csv\")"
   ]
  },
  {
   "cell_type": "code",
   "execution_count": 120,
   "metadata": {
    "collapsed": true
   },
   "outputs": [],
   "source": [
    "# This is our independent variable - The tweet data\n",
    "# Independent variable does not depend on anything.\n",
    "# Here in our case the Tweet text does not depend on anything.\n",
    "X = data_set.iloc[:, :-1]"
   ]
  },
  {
   "cell_type": "code",
   "execution_count": 121,
   "metadata": {},
   "outputs": [],
   "source": [
    "# This is our dependent variable - Positive Negative\n",
    "# It is a dependent variable because the sentiment is dependant on the tweet\n",
    "y = data_set.iloc[:, -1]"
   ]
  },
  {
   "cell_type": "code",
   "execution_count": 122,
   "metadata": {},
   "outputs": [],
   "source": [
    "# Convert the Categroical data (negative and positive) to numerical data 0 and 1\n",
    "# Generally any equations cannot process text so we need to encode the text to numbers.\n",
    "# LabelEncoder does encodes the categorical data here two categories(negative, positive)\n",
    "# to numerical data 0 and 1. The categorical data is converted into numerical data alphabetically.\n",
    "# There are three common methods used here: fit, fit_transfrom, transform in this LabelEncoder class\n",
    "# method: fit = > will not modify the data but will convert them into numerical value into memory.\n",
    "# method: transform => will use numerical values from the memory to convert the text data to numerical data.\n",
    "# method: fit_transform  => does both fit and transform\n",
    "encoder = LabelEncoder()\n",
    "y = encoder.fit_transform(y)"
   ]
  },
  {
   "cell_type": "code",
   "execution_count": 123,
   "metadata": {},
   "outputs": [],
   "source": [
    "# The list of preprocessed tweets\n",
    "corpus = []"
   ]
  },
  {
   "cell_type": "code",
   "execution_count": 124,
   "metadata": {
    "collapsed": true
   },
   "outputs": [],
   "source": [
    "def tweet_preprocessor(tweet_text):\n",
    "    \"\"\"\n",
    "    Will preprocess the tweets like remove the usernames, hashtags, urls and\n",
    "    will preprocess the content suitable for NLP.\n",
    "    :return: preprocessed tweet\n",
    "    \"\"\"\n",
    "    # convert the tweet to the lower case\n",
    "    tweet_text = tweet_text.lower()\n",
    "    tokenizer = TweetTokenizer()\n",
    "    words = tokenizer.tokenize(tweet_text)\n",
    "    preprocessed_words = []\n",
    "    for word in words:\n",
    "        if word.startswith(\"@\") or word.startswith(\"#\") or word.startswith(\"https://\") or word.startswith(\"http://\"):\n",
    "            pass\n",
    "        else:\n",
    "            preprocessed_words.append(word)\n",
    "    # remove the stop words\n",
    "    stopwords_removed = [word for word in preprocessed_words if not word in stopwords.words(\"english\")]\n",
    "    # make sure they are words\n",
    "    punc_remover = lambda word: re.sub(\"[^A-Za-z]\", \" \", word)\n",
    "    # get the pure words without punctuation\n",
    "    pure_words = list(map(punc_remover, stopwords_removed))\n",
    "    # Stem the words\n",
    "    # Stemming is the process of converting words into their root form\n",
    "    # For example: loving, loved will be converted to love\n",
    "    # The resulting root word may not be English word\n",
    "    stemmer = PorterStemmer()\n",
    "    stemmed_words = [stemmer.stem(word) for word in pure_words]\n",
    "    # strip the words\n",
    "    stripper = lambda word: word.strip()\n",
    "    stemmed_words = list(map(stripper, stemmed_words))\n",
    "    stemmed_words = filter(None, stemmed_words)\n",
    "    # Get our processed tweet\n",
    "    processed_tweet = \" \".join(stemmed_words)\n",
    "    return processed_tweet\n",
    "    "
   ]
  },
  {
   "cell_type": "code",
   "execution_count": 125,
   "metadata": {},
   "outputs": [],
   "source": [
    "result = list(X[\"Tweet\"]) # we are getting as a list\n",
    "    "
   ]
  },
  {
   "cell_type": "raw",
   "metadata": {},
   "source": []
  },
  {
   "cell_type": "code",
   "execution_count": 126,
   "metadata": {},
   "outputs": [
    {
     "name": "stdout",
     "output_type": "stream",
     "text": [
      "Completed\n"
     ]
    }
   ],
   "source": [
    "for i in result:\n",
    "    value = tweet_preprocessor(i)\n",
    "    corpus.append(value)\n",
    "print(\"Completed\")"
   ]
  },
  {
   "cell_type": "code",
   "execution_count": 127,
   "metadata": {
    "collapsed": true
   },
   "outputs": [],
   "source": [
    "# Count vectorizer creates the bag of words model\n",
    "# 1500 most common words is taken\n",
    "cv = CountVectorizer(max_features=1500)"
   ]
  },
  {
   "cell_type": "code",
   "execution_count": 128,
   "metadata": {},
   "outputs": [
    {
     "name": "stderr",
     "output_type": "stream",
     "text": [
      "C:\\Users\\User\\Anaconda3\\lib\\site-packages\\sklearn\\utils\\validation.py:420: DataConversionWarning: Data with input dtype int64 was converted to float64 by StandardScaler.\n",
      "  warnings.warn(msg, DataConversionWarning)\n",
      "C:\\Users\\User\\Anaconda3\\lib\\site-packages\\sklearn\\utils\\validation.py:420: DataConversionWarning: Data with input dtype int64 was converted to float64 by StandardScaler.\n",
      "  warnings.warn(msg, DataConversionWarning)\n"
     ]
    }
   ],
   "source": [
    "# All the text data is converted into bag of words model\n",
    "X = cv.fit_transform(corpus).toarray()\n",
    "# Scale the model\n",
    "sc = StandardScaler()\n",
    "X = sc.fit_transform(X)"
   ]
  },
  {
   "cell_type": "code",
   "execution_count": 129,
   "metadata": {},
   "outputs": [],
   "source": [
    "# Split 80% to traning and 20% for testing\n",
    "X_train, X_test, Y_train, Y_test = train_test_split(X, y, test_size=0.2, random_state=0)"
   ]
  },
  {
   "cell_type": "code",
   "execution_count": 130,
   "metadata": {},
   "outputs": [],
   "source": [
    "SVMClassifier=SVC()"
   ]
  },
  {
   "cell_type": "code",
   "execution_count": 131,
   "metadata": {},
   "outputs": [
    {
     "data": {
      "text/plain": [
       "SVC(C=1.0, cache_size=200, class_weight=None, coef0=0.0,\n",
       "  decision_function_shape=None, degree=3, gamma='auto', kernel='rbf',\n",
       "  max_iter=-1, probability=False, random_state=None, shrinking=True,\n",
       "  tol=0.001, verbose=False)"
      ]
     },
     "execution_count": 131,
     "metadata": {},
     "output_type": "execute_result"
    }
   ],
   "source": [
    "SVMClassifier.fit(X_train, Y_train)"
   ]
  },
  {
   "cell_type": "code",
   "execution_count": 132,
   "metadata": {
    "collapsed": true
   },
   "outputs": [],
   "source": [
    "Y_pred = SVMClassifier.predict(X_test)"
   ]
  },
  {
   "cell_type": "code",
   "execution_count": 133,
   "metadata": {},
   "outputs": [
    {
     "data": {
      "text/plain": [
       "0.6822572445348246"
      ]
     },
     "execution_count": 133,
     "metadata": {},
     "output_type": "execute_result"
    }
   ],
   "source": [
    "from sklearn.metrics import accuracy_score\n",
    "accuracy_score(Y_test, Y_pred) "
   ]
  },
  {
   "cell_type": "code",
   "execution_count": 134,
   "metadata": {},
   "outputs": [
    {
     "data": {
      "text/plain": [
       "array([[659, 296],\n",
       "       [329, 683]])"
      ]
     },
     "execution_count": 134,
     "metadata": {},
     "output_type": "execute_result"
    }
   ],
   "source": [
    "from sklearn.metrics import confusion_matrix\n",
    "confusion_matrix(Y_test, Y_pred)"
   ]
  },
  {
   "cell_type": "code",
   "execution_count": 138,
   "metadata": {},
   "outputs": [
    {
     "name": "stdout",
     "output_type": "stream",
     "text": [
      "Predict The sentiment\n",
      "Enter your data to get the sentiment: I am happy\n"
     ]
    }
   ],
   "source": [
    "print(\"Predict The sentiment\")\n",
    "data = input(\"Enter your data to get the sentiment: \")\n",
    "data = [data,]\n",
    "# Notice here: we are using transform. as said transform will use the memory\n",
    "# created by fit to change the data. So here we are using the existing bag of words model.\n",
    "array = cv.transform(data).toarray()"
   ]
  },
  {
   "cell_type": "code",
   "execution_count": 139,
   "metadata": {},
   "outputs": [],
   "source": [
    "r = SVMClassifier.predict(array)"
   ]
  },
  {
   "cell_type": "code",
   "execution_count": 140,
   "metadata": {},
   "outputs": [
    {
     "name": "stdout",
     "output_type": "stream",
     "text": [
      "[1]\n"
     ]
    }
   ],
   "source": [
    "print(r)"
   ]
  },
  {
   "cell_type": "code",
   "execution_count": null,
   "metadata": {
    "collapsed": true
   },
   "outputs": [],
   "source": []
  }
 ],
 "metadata": {
  "kernelspec": {
   "display_name": "Python 2",
   "language": "python",
   "name": "python2"
  },
  "language_info": {
   "codemirror_mode": {
    "name": "ipython",
    "version": 2
   },
   "file_extension": ".py",
   "mimetype": "text/x-python",
   "name": "python",
   "nbconvert_exporter": "python",
   "pygments_lexer": "ipython2",
   "version": "2.7.14"
  }
 },
 "nbformat": 4,
 "nbformat_minor": 1
}
